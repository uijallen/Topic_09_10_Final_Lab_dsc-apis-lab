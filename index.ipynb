{
 "cells": [
  {
   "cell_type": "markdown",
   "metadata": {},
   "source": [
    "# APIs - Cumulative Lab\n",
    "\n",
    "\n",
    "## Introduction \n",
    "\n",
    "We've seen how the Yelp API works and how to create basic visualizations using Folium. It's time to put those skills to work in order to create a working map! Taking things a step further, you'll also independently explore how to perform pagination in order to retrieve a full results set from the Yelp API.\n",
    "\n",
    "## Objectives\n",
    "\n",
    "You will be able to: \n",
    "\n",
    "* Practice using functions to organize your code\n",
    "* Use pagination to retrieve all results from an API query\n",
    "* Practice parsing data returned from an API query\n",
    "* Practice interpreting visualizations of a dataset\n",
    "* Create maps using Folium"
   ]
  },
  {
   "cell_type": "markdown",
   "metadata": {},
   "source": [
    "## Your Task: Query Yelp for All Businesses in a Category and Analyze the Results\n",
    "\n",
    "![restaurant counter with pizza](images/restaurant_counter.jpg)\n",
    "\n",
    "Photo by <a href=\"https://unsplash.com/@jordanmadrid?utm_source=unsplash&utm_medium=referral&utm_content=creditCopyText\">Jordan Madrid</a> on <a href=\"/s/photos/pizza-restaurant?utm_source=unsplash&utm_medium=referral&utm_content=creditCopyText\">Unsplash</a>"
   ]
  },
  {
   "cell_type": "markdown",
   "metadata": {},
   "source": [
    "### Overview\n",
    "\n",
    "You've now worked with some API calls, but we have yet to see how to retrieve a more complete dataset in a programmatic manner. In this lab, you will write a query of businesses on Yelp, then use *pagination* to retrieve all possible results for that query. Then you will create a summary of your findings, including a Folium map of the geographic locations of those businesses.\n",
    "\n",
    "### Technical Details\n",
    "\n",
    "Returning to the Yelp API, the [documentation](https://www.yelp.com/developers/documentation/v3/business_search) also provides us details regarding the **API limits**. These often include details about the number of requests a user is allowed to make within a specified time limit and the maximum number of results to be returned. In this case, we are told that any request has a **maximum of 50 results per request** and defaults to 20. Furthermore, any search will be limited to a **total of 1000 results**. To retrieve all 1000 of these results, we would have to page through the results piece by piece, retrieving 50 at a time. Processes such as these are often referred to as pagination.\n",
    "\n",
    "Also, be mindful of the **API** ***rate*** **limits**. You can only make **5000 requests per day** and are also can make requests too fast. Start prototyping small before running a loop that could be faulty. You can also use `time.sleep(n)` to add delays. For more details see https://www.yelp.com/developers/documentation/v3/rate_limiting.\n",
    "\n",
    "In this lab, you will define a search and then paginate over the results to retrieve all of the results. You'll then parse these responses as a list of dictionaries (for further exploration) and create a map using Folium to visualize the results geographically.\n",
    "\n",
    "### Requirements\n",
    "\n",
    "#### 1. Make the Initial Request\n",
    "\n",
    "Start by filling in your API key to make the initial request to the business search API. Investigate the structure of the response you get back and start figuring out how you will extract the relevant information.\n",
    "\n",
    "#### 2. Add Pagination\n",
    "\n",
    "Using loops and functions, collect the maximum number of results for your query from the API.\n",
    "\n",
    "#### 3. Perform Exploratory Analysis\n",
    "\n",
    "Interpret visualizations related to the price range, average rating, and number of reviews for all query results.\n",
    "\n",
    "#### 4. Create a Folium Map\n",
    "\n",
    "Using latitude and longitude data, plot the query results on an interactive map."
   ]
  },
  {
   "cell_type": "markdown",
   "metadata": {},
   "source": [
    "## 1. Make the Initial Request\n",
    "\n",
    "### Querying\n",
    "\n",
    "Start by making an initial request to the Yelp API. Your search must include at least 2 parameters: **term** and **location**. For example, you might search for pizza restaurants in NYC. The term and location is up to you but make the request below.\n",
    "\n",
    "Use the `requests` library ([documentation here](https://requests.readthedocs.io/en/master/user/quickstart/#make-a-request)).\n",
    "\n",
    "You'll also need an API key from Yelp. If you haven't done this already, go to the Yelp [Manage App page](https://www.yelp.com/developers/v3/manage_app) and create a new app (after making an account if you haven't already)."
   ]
  },
  {
   "cell_type": "code",
   "execution_count": 5,
   "metadata": {},
   "outputs": [],
   "source": [
    "import json\n",
    "\n",
    "# define a function to pull my api_key\n",
    "def get_keys(path):\n",
    "    with open(path) as f:\n",
    "        return json.load(f)\n",
    "\n",
    "keys = get_keys('/Users/josh/.secret/yelp_api.json')\n",
    "\n",
    "api_key = keys['api_key']\n"
   ]
  },
  {
   "cell_type": "code",
   "execution_count": 10,
   "metadata": {},
   "outputs": [
    {
     "data": {
      "text/plain": [
       "<Response [200]>"
      ]
     },
     "execution_count": 10,
     "metadata": {},
     "output_type": "execute_result"
    }
   ],
   "source": [
    "# Replace None with appropriate code\n",
    "\n",
    "# Import the requests library\n",
    "import requests\n",
    "\n",
    "# Get this from the \"Manage App\" page. Make sure you set them\n",
    "# back to None before pushing this to GitHub, since otherwise\n",
    "# your credentials will be compromised\n",
    "# api_key = None - JEA commented this out as i get my api_key above using a function\n",
    "\n",
    "# These can be whatever you want! But the solution uses \"pizza\"\n",
    "# and \"New York NY\" if you want to compare your work directly\n",
    "term = 'Pizza'\n",
    "location = 'New York NY'\n",
    "\n",
    "# Set up params for request\n",
    "url = \"https://api.yelp.com/v3/businesses/search\"\n",
    "headers = {\n",
    "#    \"Authorization\": \"Bearer {}\".format(api_key) - commented this out to try and write this using fstring instea\n",
    "     \"Authorization\": f\"Bearer {api_key}\"\n",
    "}\n",
    "url_params = {\n",
    "    \"term\": term.replace(\" \", \"+\"),\n",
    "    \"location\": location.replace(\" \", \"+\")\n",
    "}\n",
    "\n",
    "# Make the request using requests.get, passing in\n",
    "# url, headers=headers, and params=url_params\n",
    "response = requests.get(url, headers=headers, params=url_params)\n",
    "\n",
    "# Confirm we got a 200 response\n",
    "response"
   ]
  },
  {
   "cell_type": "code",
   "execution_count": 11,
   "metadata": {},
   "outputs": [
    {
     "data": {
      "text/plain": [
       "dict_keys(['businesses', 'total', 'region'])"
      ]
     },
     "execution_count": 11,
     "metadata": {},
     "output_type": "execute_result"
    }
   ],
   "source": [
    "# Run this cell without changes\n",
    "\n",
    "# Get the response body in JSON format\n",
    "response_json = response.json()\n",
    "# View the keys\n",
    "response_json.keys()"
   ]
  },
  {
   "cell_type": "markdown",
   "metadata": {},
   "source": [
    "### Extracting Data\n",
    "\n",
    "Now, retrieve the value associated with the `'businesses'` key, and inspect its contents."
   ]
  },
  {
   "cell_type": "code",
   "execution_count": 12,
   "metadata": {},
   "outputs": [
    {
     "data": {
      "text/plain": [
       "[{'id': 'zj8Lq1T8KIC5zwFief15jg',\n",
       "  'alias': 'prince-street-pizza-new-york-2',\n",
       "  'name': 'Prince Street Pizza',\n",
       "  'image_url': 'https://s3-media4.fl.yelpcdn.com/bphoto/HVjttLctuIzKL3LSlsRf-w/o.jpg',\n",
       "  'is_closed': False,\n",
       "  'url': 'https://www.yelp.com/biz/prince-street-pizza-new-york-2?adjust_creative=A3qNUWTrvkXJ5UFlhFOCmg&utm_campaign=yelp_api_v3&utm_medium=api_v3_business_search&utm_source=A3qNUWTrvkXJ5UFlhFOCmg',\n",
       "  'review_count': 4364,\n",
       "  'categories': [{'alias': 'pizza', 'title': 'Pizza'},\n",
       "   {'alias': 'italian', 'title': 'Italian'}],\n",
       "  'rating': 4.5,\n",
       "  'coordinates': {'latitude': 40.72308755605564,\n",
       "   'longitude': -73.99453001177575},\n",
       "  'transactions': ['delivery', 'pickup'],\n",
       "  'price': '$',\n",
       "  'location': {'address1': '27 Prince St',\n",
       "   'address2': None,\n",
       "   'address3': '',\n",
       "   'city': 'New York',\n",
       "   'zip_code': '10012',\n",
       "   'country': 'US',\n",
       "   'state': 'NY',\n",
       "   'display_address': ['27 Prince St', 'New York, NY 10012']},\n",
       "  'phone': '+12129664100',\n",
       "  'display_phone': '(212) 966-4100',\n",
       "  'distance': 1961.8771417367063},\n",
       " {'id': 'ysqgdbSrezXgVwER2kQWKA',\n",
       "  'alias': 'julianas-brooklyn-3',\n",
       "  'name': \"Juliana's\",\n",
       "  'image_url': 'https://s3-media2.fl.yelpcdn.com/bphoto/clscwgOF9_Ecq-Rwsq7jyQ/o.jpg',\n",
       "  'is_closed': False,\n",
       "  'url': 'https://www.yelp.com/biz/julianas-brooklyn-3?adjust_creative=A3qNUWTrvkXJ5UFlhFOCmg&utm_campaign=yelp_api_v3&utm_medium=api_v3_business_search&utm_source=A3qNUWTrvkXJ5UFlhFOCmg',\n",
       "  'review_count': 2459,\n",
       "  'categories': [{'alias': 'pizza', 'title': 'Pizza'}],\n",
       "  'rating': 4.5,\n",
       "  'coordinates': {'latitude': 40.70274718768062,\n",
       "   'longitude': -73.99343490196397},\n",
       "  'transactions': ['delivery'],\n",
       "  'price': '$$',\n",
       "  'location': {'address1': '19 Old Fulton St',\n",
       "   'address2': '',\n",
       "   'address3': '',\n",
       "   'city': 'Brooklyn',\n",
       "   'zip_code': '11201',\n",
       "   'country': 'US',\n",
       "   'state': 'NY',\n",
       "   'display_address': ['19 Old Fulton St', 'Brooklyn, NY 11201']},\n",
       "  'phone': '+17185966700',\n",
       "  'display_phone': '(718) 596-6700',\n",
       "  'distance': 308.56984360837544}]"
      ]
     },
     "execution_count": 12,
     "metadata": {},
     "output_type": "execute_result"
    }
   ],
   "source": [
    "# Replace None with appropriate code\n",
    "\n",
    "# Retrieve the value from response_json\n",
    "businesses = response_json['businesses']\n",
    "\n",
    "# View the first 2 records\n",
    "businesses[:2]"
   ]
  },
  {
   "cell_type": "markdown",
   "metadata": {},
   "source": [
    "### Preparing Data\n",
    "\n",
    "Write a function `prepare_data` that takes in a list of dictionaries like `businesses` and returns a copy that has been prepared for analysis:\n",
    "\n",
    "1. The `coordinates` key-value pair has been converted into two separate key-value pairs, `latitude` and `longitude`\n",
    "2. All other key-value pairs except for `name`, `review_count`, `rating`, and `price` have been dropped\n",
    "3. All dictionaries missing one of the relevant keys or containing null values have been dropped\n",
    "\n",
    "In other words, the final keys for each dictionary should be `name`, `review_count`, `rating`, `price`, `latitude`, and `longitude`.\n",
    "\n",
    "Complete the function in the cell below:"
   ]
  },
  {
   "cell_type": "code",
   "execution_count": 16,
   "metadata": {},
   "outputs": [
    {
     "data": {
      "text/plain": [
       "40.72308755605564"
      ]
     },
     "execution_count": 16,
     "metadata": {},
     "output_type": "execute_result"
    }
   ],
   "source": [
    "# Delete this Cell Testing\n",
    "businesses[0]['coordinates']['latitude']"
   ]
  },
  {
   "cell_type": "code",
   "execution_count": 19,
   "metadata": {},
   "outputs": [
    {
     "data": {
      "text/plain": [
       "[{'name': 'Prince Street Pizza',\n",
       "  'review_count': 4364,\n",
       "  'rating': 4.5,\n",
       "  'price': '$',\n",
       "  'latitude': 40.72308755605564,\n",
       "  'longitude': -73.99453001177575},\n",
       " {'name': \"Juliana's\",\n",
       "  'review_count': 2459,\n",
       "  'rating': 4.5,\n",
       "  'price': '$$',\n",
       "  'latitude': 40.70274718768062,\n",
       "  'longitude': -73.99343490196397},\n",
       " {'name': \"Lombardi's Pizza\",\n",
       "  'review_count': 6332,\n",
       "  'rating': 4.0,\n",
       "  'price': '$$',\n",
       "  'latitude': 40.7215934960083,\n",
       "  'longitude': -73.9955956044561},\n",
       " {'name': 'Lucali',\n",
       "  'review_count': 1810,\n",
       "  'rating': 4.0,\n",
       "  'price': '$$',\n",
       "  'latitude': 40.681840746711224,\n",
       "  'longitude': -74.0003327},\n",
       " {'name': 'Rubirosa',\n",
       "  'review_count': 2681,\n",
       "  'rating': 4.5,\n",
       "  'price': '$$',\n",
       "  'latitude': 40.722766,\n",
       "  'longitude': -73.996233}]"
      ]
     },
     "execution_count": 19,
     "metadata": {},
     "output_type": "execute_result"
    }
   ],
   "source": [
    "# Replace None with appropriate code\n",
    "\n",
    "def prepare_data(data_list):\n",
    "    \"\"\"\n",
    "    This function takes in a list of dictionaries and prepares it\n",
    "    for analysis\n",
    "    \"\"\"\n",
    "    \n",
    "    # Make a new list to hold results\n",
    "    results = []\n",
    "    \n",
    "    for business_data in data_list:\n",
    "    \n",
    "        # Make a new dictionary to hold prepared data for this business\n",
    "        prepared_data = {}\n",
    "        \n",
    "        # Extract name, review_count, rating, and price key-value pairs\n",
    "        # from business_data and add to prepared_data\n",
    "        # If a key is not present in business_data, add it to prepared_data\n",
    "        # with an associated value of None\n",
    "        for key in ('name', 'review_count', 'rating', 'price'):\n",
    "            prepared_data[key] = business_data.get(key, None)\n",
    "    \n",
    "        # Parse and add latitude and longitude columns\n",
    "        for position in ('latitude', 'longitude'):\n",
    "            location = business_data['coordinates'][position]\n",
    "            prepared_data[position] = location\n",
    "        \n",
    "        # Add to list if all values are present\n",
    "        if all(prepared_data.values()):\n",
    "            results.append(prepared_data)\n",
    "    \n",
    "    return results\n",
    "    \n",
    "# Test out function\n",
    "prepared_businesses = prepare_data(businesses)\n",
    "prepared_businesses[:5]"
   ]
  },
  {
   "cell_type": "markdown",
   "metadata": {},
   "source": [
    "Check that your function created the correct keys:"
   ]
  },
  {
   "cell_type": "code",
   "execution_count": 20,
   "metadata": {},
   "outputs": [],
   "source": [
    "# Run this cell without changes\n",
    "\n",
    "assert sorted(list(prepared_businesses[0].keys())) == ['latitude', 'longitude', 'name', 'price', 'rating', 'review_count']"
   ]
  },
  {
   "cell_type": "markdown",
   "metadata": {},
   "source": [
    "The following code will differ depending on your query, but we expect there to be 20 businesses in the original list, and potentially fewer in the prepared list (if any of them were missing data):"
   ]
  },
  {
   "cell_type": "code",
   "execution_count": 21,
   "metadata": {},
   "outputs": [
    {
     "name": "stdout",
     "output_type": "stream",
     "text": [
      "Original: 20\n",
      "Prepared: 20\n"
     ]
    }
   ],
   "source": [
    "# Run this cell without changes\n",
    "print(\"Original:\", len(businesses))\n",
    "print(\"Prepared:\", len(prepared_businesses))"
   ]
  },
  {
   "cell_type": "markdown",
   "metadata": {},
   "source": [
    "Great! We will reuse this function once we have retrieved the full dataset."
   ]
  },
  {
   "cell_type": "markdown",
   "metadata": {},
   "source": [
    "## 2. Add Pagination\n",
    "\n",
    "Now that you are able to extract information from one page of the response, let's figure out how to request as many pages as possible.\n",
    "\n",
    "### Determining the Total\n",
    "\n",
    "Depending on the number of total results for your query, you will either retrieve all of the results, or just the first 1000 (if there are more than 1000 total).\n",
    "\n",
    "We can find the total number of results using the `\"total\"` key:"
   ]
  },
  {
   "cell_type": "code",
   "execution_count": 22,
   "metadata": {},
   "outputs": [
    {
     "data": {
      "text/plain": [
       "12000"
      ]
     },
     "execution_count": 22,
     "metadata": {},
     "output_type": "execute_result"
    }
   ],
   "source": [
    "# Run this cell without changes\n",
    "response_json[\"total\"]"
   ]
  },
  {
   "cell_type": "markdown",
   "metadata": {},
   "source": [
    "(This is specific to the implementation of the Yelp API. Some APIs will just tell you that there are more pages, or will tell you the number of pages total, rather than the total number of results. If you're not sure, always check the documentation.)\n",
    "\n",
    "In the cell below, assign the variable `total` to either the value shown above (if it is less than 1000), or 1000."
   ]
  },
  {
   "cell_type": "code",
   "execution_count": 27,
   "metadata": {},
   "outputs": [],
   "source": [
    "# Replace None with appropriate code\n",
    "total = 1000"
   ]
  },
  {
   "cell_type": "markdown",
   "metadata": {},
   "source": [
    "### Calculating the Offsets\n",
    "\n",
    "The documentation states in the parameters section:\n",
    "\n",
    "> **Name**: `limit`, **Type:** int, **Description:** Optional. Number of business results to return. By default, it will return 20. Maximum is 50.\n",
    "\n",
    "> **Name**: `offset`, **Type:** int, **Description:** Optional. Offset the list of returned business results by this amount.\n",
    "\n",
    "So, to get the most results with the fewest API calls we want to set a limit of 50 every time. If, say, we wanted to get 210 total results, that would mean:\n",
    "\n",
    "1. Offset of `0` (first 50 records)\n",
    "2. Offset of `50` (second 50 records)\n",
    "3. Offset of `100` (third 50 records)\n",
    "4. Offset of `150` (fourth 50 records)\n",
    "5. Offset of `200` (final 10 records)\n",
    "\n",
    "In the cell below, create a function `get_offsets` that takes in a total and returns a list of offsets for that total. You can assume that there is a limit of 50 every time.\n",
    "\n",
    "*Hint: you can use `range` ([documentation here](https://docs.python.org/3.3/library/stdtypes.html?highlight=range#range)) to do this in one line of code. Just make the returned result is a list.*"
   ]
  },
  {
   "cell_type": "code",
   "execution_count": 44,
   "metadata": {},
   "outputs": [
    {
     "data": {
      "text/plain": [
       "[0,\n",
       " 50,\n",
       " 100,\n",
       " 150,\n",
       " 200,\n",
       " 250,\n",
       " 300,\n",
       " 350,\n",
       " 400,\n",
       " 450,\n",
       " 500,\n",
       " 550,\n",
       " 600,\n",
       " 650,\n",
       " 700,\n",
       " 750,\n",
       " 800,\n",
       " 850,\n",
       " 900,\n",
       " 950]"
      ]
     },
     "execution_count": 44,
     "metadata": {},
     "output_type": "execute_result"
    }
   ],
   "source": [
    "x = list(range(0,1000,50))\n",
    "x"
   ]
  },
  {
   "cell_type": "code",
   "execution_count": 46,
   "metadata": {},
   "outputs": [],
   "source": [
    "# Replace None with appropriate code\n",
    "def get_offsets(total):\n",
    "    \"\"\"\n",
    "    Get a list of offsets needed to get all pages\n",
    "    of data up until the total\n",
    "    \"\"\"\n",
    "    return list(range(0, total, 50))\n"
   ]
  },
  {
   "cell_type": "markdown",
   "metadata": {},
   "source": [
    "Check that your function works below:"
   ]
  },
  {
   "cell_type": "code",
   "execution_count": 47,
   "metadata": {},
   "outputs": [],
   "source": [
    "# Run this cell without changes\n",
    "\n",
    "assert get_offsets(200) == [0, 50, 100, 150]\n",
    "assert get_offsets(210) == [0, 50, 100, 150, 200]"
   ]
  },
  {
   "cell_type": "markdown",
   "metadata": {},
   "source": [
    "### Putting It All Together\n",
    "\n",
    "Recall that the following variable has already been declared for you:"
   ]
  },
  {
   "cell_type": "code",
   "execution_count": 48,
   "metadata": {},
   "outputs": [
    {
     "data": {
      "text/plain": [
       "{'term': 'Pizza', 'location': 'New+York+NY'}"
      ]
     },
     "execution_count": 48,
     "metadata": {},
     "output_type": "execute_result"
    }
   ],
   "source": [
    "# Run this cell without changes\n",
    "url_params"
   ]
  },
  {
   "cell_type": "markdown",
   "metadata": {},
   "source": [
    "We'll go ahead and also specify that the limit should be 50 every time:"
   ]
  },
  {
   "cell_type": "code",
   "execution_count": 49,
   "metadata": {},
   "outputs": [],
   "source": [
    "# Run this cell without changes\n",
    "url_params[\"limit\"] = 50"
   ]
  },
  {
   "cell_type": "markdown",
   "metadata": {},
   "source": [
    "In order to modify the offset, you'll need to add it to `url_params` with the key `\"offset\"` and whatever value is needed.\n",
    "\n",
    "In the cell below, write code that:\n",
    "\n",
    "* Creates an empty list for the full prepared dataset\n",
    "* Loops over all of the offsets from `get_offsets` and makes an API call each time with the specified offset\n",
    "* Calls `prepare_data` to get a cleaned version of the result of each API call\n",
    "* Extends the full prepared dataset list with each query's prepared dataset"
   ]
  },
  {
   "cell_type": "code",
   "execution_count": 52,
   "metadata": {},
   "outputs": [
    {
     "data": {
      "text/plain": [
       "802"
      ]
     },
     "execution_count": 52,
     "metadata": {},
     "output_type": "execute_result"
    }
   ],
   "source": [
    "# Replace None with appropriate code\n",
    "\n",
    "# Create an empty list for the full prepared dataset\n",
    "full_dataset = []\n",
    "\n",
    "for offset in get_offsets(total):\n",
    "    # Add or update the \"offset\" key-value pair in url_params\n",
    "    url_params['offset'] = offset\n",
    "    \n",
    "    # Make the query and get the response\n",
    "    response = requests.get(url, headers=headers, params=url_params)\n",
    "    \n",
    "    # Get the response body in JSON format\n",
    "    response_json = response.json()\n",
    "    \n",
    "    # Get the list of businesses from the response_json\n",
    "    businesses = response_json['businesses']\n",
    "    \n",
    "    # Call the prepare_data function to get a list of processed data\n",
    "    prepared_businesses = prepare_data(businesses)\n",
    "    \n",
    "    # Extend full_dataset with this list (don't append, or you'll get\n",
    "    # a list of lists instead of a flat list)\n",
    "    full_dataset.extend(prepared_businesses)\n",
    "\n",
    "# Check the length of the full dataset. It will be up to `total`,\n",
    "# potentially less if there were missing values\n",
    "len(full_dataset)"
   ]
  },
  {
   "cell_type": "markdown",
   "metadata": {},
   "source": [
    "This code may take up to a few minutes to run.\n",
    "\n",
    "If you get an error trying to get the response body in JSON format, try adding `time.sleep(1)` right after the `requests.get` line, so your code will sleep for 1 second between each API call."
   ]
  },
  {
   "cell_type": "markdown",
   "metadata": {},
   "source": [
    "## 3. Perform Exploratory Analysis\n",
    "\n",
    "Take the businesses from the previous question and do an initial exploratory analysis. We have provided some plots for you to interpret:"
   ]
  },
  {
   "cell_type": "code",
   "execution_count": 53,
   "metadata": {},
   "outputs": [
    {
     "data": {
      "image/png": "[encoded data removed]",
      "text/plain": [
       "<Figure size 1152x360 with 3 Axes>"
      ]
     },
     "metadata": {
      "needs_background": "light"
     },
     "output_type": "display_data"
    }
   ],
   "source": [
    "# Run this cell without changes\n",
    "from collections import Counter\n",
    "import matplotlib.pyplot as plt\n",
    "%matplotlib inline\n",
    "\n",
    "fig, (ax1, ax2, ax3) = plt.subplots(ncols=3, figsize=(16, 5))\n",
    "\n",
    "# Plot distribution of number of reviews\n",
    "all_review_counts = [x[\"review_count\"] for x in full_dataset]\n",
    "ax1.hist(all_review_counts)\n",
    "ax1.set_title(\"Review Count Distribution\")\n",
    "ax1.set_xlabel(\"Number of Reviews\")\n",
    "ax1.set_ylabel(\"Number of Businesses\")\n",
    "\n",
    "# Plot rating distribution\n",
    "all_ratings = [x[\"rating\"] for x in full_dataset]\n",
    "rating_counter = Counter(all_ratings)\n",
    "rating_keys = sorted(rating_counter.keys())\n",
    "ax2.bar(rating_keys, [rating_counter[key] for key in rating_keys])\n",
    "ax2.set_title(\"Rating Distribution\")\n",
    "ax2.set_xlabel(\"Rating\")\n",
    "ax2.set_ylabel(\"Number of Businesses\")\n",
    "\n",
    "# Plot price distribution\n",
    "all_prices = [x[\"price\"].replace(\"$\", r\"\\$\") for x in full_dataset]\n",
    "price_counter = Counter(all_prices)\n",
    "price_keys = sorted(price_counter.keys())\n",
    "ax3.bar(price_keys, [price_counter[key] for key in price_keys])\n",
    "ax3.set_title(\"Price Distribution\")\n",
    "ax3.set_xlabel(\"Price Category\")\n",
    "ax3.set_ylabel(\"Number of Businesses\");"
   ]
  },
  {
   "cell_type": "markdown",
   "metadata": {},
   "source": [
    "Describe the distributions displayed above and interpret them in the context of your query. (Your answer may differ from the solution branch depending on your query.)"
   ]
  },
  {
   "cell_type": "code",
   "execution_count": null,
   "metadata": {},
   "outputs": [],
   "source": [
    "# Replace None with appropriate text\n",
    "\"\"\"\n",
    "The review count distribution is very skewed (positively).  Most businesses have less than 2000 reviews\n",
    "which makes sense because restaurants are a very volatile business and only those that are around for many\n",
    "many years will have larger numbers of reviews.  \n",
    "\n",
    "The rating distribution appears to be normally distributed.\n",
    "\n",
    "The price distribution for pizza restaurants is also positively skewed.  This makes sense since pizza tends\n",
    "to be a food that is at less upscale restaurants, sometimes it can even be a grab-and-go style restaurant. \n",
    "Therefore it makes sense that places that sell pizza would tend to be on the lower end of the price spectrum\n",
    "in general.\n",
    "\"\"\""
   ]
  },
  {
   "cell_type": "markdown",
   "metadata": {},
   "source": [
    "In the cell below, we also plot the rating distributions by price. In this setup, a price of one dollar sign is \"lower price\" and everything else is \"higher price\"."
   ]
  },
  {
   "cell_type": "code",
   "execution_count": 54,
   "metadata": {},
   "outputs": [
    {
     "data": {
      "image/png": "[encoded data removed]",
      "text/plain": [
       "<Figure size 432x288 with 1 Axes>"
      ]
     },
     "metadata": {
      "needs_background": "light"
     },
     "output_type": "display_data"
    }
   ],
   "source": [
    "# Run this cell without changes\n",
    "\n",
    "higher_price = []\n",
    "lower_price = []\n",
    "for row in full_dataset:\n",
    "    if row[\"price\"] == \"$\":\n",
    "        lower_price.append(row[\"rating\"])\n",
    "    else:\n",
    "        higher_price.append(row[\"rating\"])\n",
    "        \n",
    "fig, ax = plt.subplots()\n",
    "\n",
    "ax.hist([higher_price, lower_price], label=[\"higher price\", \"lower price\"], density=True)\n",
    "\n",
    "ax.legend();"
   ]
  },
  {
   "cell_type": "markdown",
   "metadata": {},
   "source": [
    "Is a higher price associated with a higher rating? (No need for any additional math/statistics, just interpret what you see in the plot.)"
   ]
  },
  {
   "cell_type": "code",
   "execution_count": 55,
   "metadata": {},
   "outputs": [
    {
     "data": {
      "text/plain": [
       "'\\nHigher priced stores do tend to have higher ratings than lower priced stores.  As once we look at\\nratings of 4.0 and above there are significantly more ratings received for higher priced restaurants\\nthan lower priced restaurants.\\n'"
      ]
     },
     "execution_count": 55,
     "metadata": {},
     "output_type": "execute_result"
    }
   ],
   "source": [
    "# Replace None with appropriate text\n",
    "\"\"\"\n",
    "Higher priced stores do tend to have higher ratings than lower priced stores.  As once we look at\n",
    "ratings of 4.0 and above there are significantly more ratings received for higher priced restaurants\n",
    "than lower priced restaurants.\n",
    "\"\"\""
   ]
  },
  {
   "cell_type": "markdown",
   "metadata": {},
   "source": [
    "Finally, let's look at ratings vs. review counts:"
   ]
  },
  {
   "cell_type": "code",
   "execution_count": 56,
   "metadata": {},
   "outputs": [
    {
     "data": {
      "image/png": "[encoded data removed]",
      "text/plain": [
       "<Figure size 1152x360 with 1 Axes>"
      ]
     },
     "metadata": {
      "needs_background": "light"
     },
     "output_type": "display_data"
    }
   ],
   "source": [
    "# Run this cell without changes\n",
    "fig, ax = plt.subplots(figsize=(16,5))\n",
    "\n",
    "ax.scatter(all_review_counts, all_ratings, alpha=0.2)\n",
    "ax.set_xlabel(\"Number of Reviews\")\n",
    "ax.set_ylabel(\"Rating\")\n",
    "# \"zoom in\" to a subset of review counts\n",
    "ax.set_xlim(left=0, right=1000);"
   ]
  },
  {
   "cell_type": "markdown",
   "metadata": {},
   "source": [
    "Is a higher number of reviews associated with a higher rating?"
   ]
  },
  {
   "cell_type": "code",
   "execution_count": null,
   "metadata": {},
   "outputs": [],
   "source": [
    "# Replace None with appropriate text\n",
    "\"\"\"\n",
    "A higher number of reviews is associated with higher ratings to a point.  From 2.5-4 as the number of\n",
    "reviews increases, so too does the rating.  However, once we go past 4 to a 4.5-5 ratings, the number of \n",
    "reviews appears to fall off.\n",
    "\"\"\""
   ]
  },
  {
   "cell_type": "markdown",
   "metadata": {},
   "source": [
    "## 4. Create a Folium Map\n",
    "\n",
    "Make a map using Folium of the businesses you retrieved. Be sure to also add popups to the markers giving some basic information such as name, rating and price.\n",
    "\n",
    "You can center the map around the latitude and longitude of the first item in `full_dataset`."
   ]
  },
  {
   "cell_type": "code",
   "execution_count": 57,
   "metadata": {},
   "outputs": [
    {
     "data": {
      "text/plain": [
       "{'name': 'Prince Street Pizza',\n",
       " 'review_count': 4364,\n",
       " 'rating': 4.5,\n",
       " 'price': '$',\n",
       " 'latitude': 40.72308755605564,\n",
       " 'longitude': -73.99453001177575}"
      ]
     },
     "execution_count": 57,
     "metadata": {},
     "output_type": "execute_result"
    }
   ],
   "source": [
    "full_dataset[0]"
   ]
  },
  {
   "cell_type": "code",
   "execution_count": 60,
   "metadata": {},
   "outputs": [
    {
     "data": {
      "text/html": [
       "<div style=\"width:100%;\"><div style=\"position:relative;width:100%;height:0;padding-bottom:60%;\"><span style=\"color:#565656\">Make this Notebook Trusted to load map: File -> Trust Notebook</span><iframe src=\"about:blank\" style=\"position:absolute;width:100%;height:100%;left:0;top:0;border:none !important;\" data-html=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 onload=\"this.contentDocument.open();this.contentDocument.write(atob(this.getAttribute('data-html')));this.contentDocument.close();\" allowfullscreen webkitallowfullscreen mozallowfullscreen></iframe></div></div>"
      ],
      "text/plain": [
       "<folium.folium.Map at 0x7fb0399e9700>"
      ]
     },
     "execution_count": 60,
     "metadata": {},
     "output_type": "execute_result"
    }
   ],
   "source": [
    "# Replace None with appropriate code\n",
    "\n",
    "# Import the library\n",
    "import folium\n",
    "\n",
    "# Set up center latitude and longitude\n",
    "center_lat = full_dataset[0]['latitude']\n",
    "center_long = full_dataset[0]['longitude']\n",
    "\n",
    "# Initialize map with center lat and long\n",
    "yelp_map = folium.Map([center_lat, center_long], zoom_start=13)\n",
    "yelp_map"
   ]
  },
  {
   "cell_type": "code",
   "execution_count": 61,
   "metadata": {},
   "outputs": [
    {
     "data": {
      "text/html": [
       "<div style=\"width:100%;\"><div style=\"position:relative;width:100%;height:0;padding-bottom:60%;\"><span style=\"color:#565656\">Make this Notebook Trusted to load map: File -> Trust Notebook</span><iframe src=\"about:blank\" style=\"position:absolute;width:100%;height:100%;left:0;top:0;border:none !important;\" data-html=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 onload=\"this.contentDocument.open();this.contentDocument.write(atob(this.getAttribute('data-html')));this.contentDocument.close();\" allowfullscreen webkitallowfullscreen mozallowfullscreen></iframe></div></div>"
      ],
      "text/plain": [
       "<folium.folium.Map at 0x7fb0399e9700>"
      ]
     },
     "execution_count": 61,
     "metadata": {},
     "output_type": "execute_result"
    }
   ],
   "source": [
    "# Adjust this limit to see more or fewer businesses\n",
    "limit=100\n",
    "\n",
    "for business in full_dataset[:limit]:\n",
    "    # Extract information about business\n",
    "    lat = business['latitude']\n",
    "    long = business['longitude']\n",
    "    name = business['name']\n",
    "    rating = business['rating']\n",
    "    price = business['price']\n",
    "    details = \"{}\\nPrice: {} Rating:{}\".format(name,price,rating)\n",
    "    \n",
    "    # Create popup with relevant details\n",
    "    popup = folium.Popup(details)\n",
    "    \n",
    "    # Create marker with relevant lat/long and popup\n",
    "    marker = folium.Marker([lat, long], popup=popup)\n",
    "    \n",
    "    marker.add_to(yelp_map)\n",
    "    \n",
    "yelp_map"
   ]
  },
  {
   "cell_type": "markdown",
   "metadata": {},
   "source": [
    "## Summary\n",
    "\n",
    "Nice work! In this lab, you've made multiple API calls to Yelp in order to paginate through a results set, performing some basic exploratory analysis and then creating a nice interactive map to display the results using Folium! Well done!"
   ]
  }
 ],
 "metadata": {
  "kernelspec": {
   "display_name": "Python 3",
   "language": "python",
   "name": "python3"
  },
  "language_info": {
   "codemirror_mode": {
    "name": "ipython",
    "version": 3
   },
   "file_extension": ".py",
   "mimetype": "text/x-python",
   "name": "python",
   "nbconvert_exporter": "python",
   "pygments_lexer": "ipython3",
   "version": "3.8.5"
  },
  "toc": {
   "base_numbering": 1,
   "nav_menu": {},
   "number_sections": true,
   "sideBar": true,
   "skip_h1_title": false,
   "title_cell": "Table of Contents",
   "title_sidebar": "Contents",
   "toc_cell": false,
   "toc_position": {},
   "toc_section_display": true,
   "toc_window_display": false
  }
 },
 "nbformat": 4,
 "nbformat_minor": 2
}
